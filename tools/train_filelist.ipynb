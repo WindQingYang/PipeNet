{
 "cells": [
  {
   "cell_type": "code",
   "execution_count": 18,
   "metadata": {},
   "outputs": [],
   "source": [
    "import os\n",
    "import random\n",
    "\n",
    "\n",
    "DATA_ROOT = r'/home/qing/codalab/CASIA-CeFA/phase1'\n",
    "DATA_ROOT_2500 = r'/home/qing/codalab/CASIA-CeFA/phase1_2500'\n",
    "\n",
    "\n",
    "# dataset_name='4@3'\n",
    "\n",
    "def load_train_list(dataset_name):\n",
    "    list = []\n",
    "    # f = open(DATA_ROOT + '/train_list.txt')\n",
    "    f = open(DATA_ROOT + '/'+dataset_name+'_train.txt')\n",
    "    lines = f.readlines()\n",
    "\n",
    "    for line in lines:\n",
    "        line = line.strip().split(' ')\n",
    "        list.append(line)\n",
    "#     print(\"train_list\", list)\n",
    "    return list\n",
    "\n",
    "def convert_list(train_list):\n",
    "    print(\"convert!\")\n",
    "    list=[]\n",
    "    for tmp in train_list:\n",
    "        profile_str=tmp[0]\n",
    "        depth_str=tmp[0].replace(\"profile\",\"depth\") \n",
    "        ir_str=tmp[0].replace(\"profile\",\"ir\")\n",
    "        tmp=[profile_str,depth_str,ir_str,tmp[1]]\n",
    "#         print(\"tmp:\",tmp)\n",
    "        list.append(tmp)\n",
    "    return list\n",
    "        \n",
    "\n",
    "def seperate_list(train_list,val_ratio):\n",
    "    print(\"seperate\")\n",
    "    new_val_list=[]\n",
    "    new_train_list=[]\n",
    "    random.shuffle(train_list)\n",
    "    for i in range(0,len(train_list)):\n",
    "        if i<round(len(train_list)*val_ratio):\n",
    "            new_val_list.append(train_list[i])\n",
    "#             print(\"new val\",train_list[i])\n",
    "        else:\n",
    "            new_train_list.append(train_list[i])\n",
    "#             print(\"new train\",train_list[i])\n",
    "    return new_val_list,new_train_list\n",
    "        \n",
    "        \n",
    "def write_list(list,name):\n",
    "    file=open(DATA_ROOT_2500 + '/'+ name+'.txt',\"w+\")\n",
    "    for tmp in list:\n",
    "        line=tmp[0]+\" \"+tmp[1]+\" \"+tmp[2]+\" \"+str(tmp[3])+\"\\n\"\n",
    "        file.write(str(line))\n",
    "    file.close()\n",
    "    \n",
    "\n",
    "\n"
   ]
  },
  {
   "cell_type": "code",
   "execution_count": 19,
   "metadata": {},
   "outputs": [
    {
     "name": "stdout",
     "output_type": "stream",
     "text": [
      "convert!\n",
      "seperate\n",
      "train num: 33713\n",
      "new val num: 3371\n",
      "new train num: 30342\n",
      "convert!\n",
      "seperate\n",
      "train num: 34367\n",
      "new val num: 3437\n",
      "new train num: 30930\n",
      "convert!\n",
      "seperate\n",
      "train num: 33152\n",
      "new val num: 3315\n",
      "new train num: 29837\n"
     ]
    }
   ],
   "source": [
    "for i in range(1,4):\n",
    "    train_list = load_train_list('4@'+str(i))\n",
    "    train_list=convert_list(train_list)\n",
    "\n",
    "    random.shuffle(train_list)\n",
    "    val_ratio=0.1\n",
    "    new_val_list,new_train_list=seperate_list(train_list,val_ratio)\n",
    "    print(\"train num:\",len(train_list))\n",
    "    write_list(new_val_list,'4@'+str(i)+\"_new_val\")\n",
    "    write_list(new_train_list,'4@'+str(i)+\"_new_train\")\n",
    "    print(\"new val num:\",len(new_val_list))\n",
    "    print(\"new train num:\",len(new_train_list))\n",
    "# transform_balance(train_list)\n"
   ]
  },
  {
   "cell_type": "code",
   "execution_count": 61,
   "metadata": {},
   "outputs": [
    {
     "ename": "ModuleNotFoundError",
     "evalue": "No module named 'date'",
     "output_type": "error",
     "traceback": [
      "\u001b[0;31m---------------------------------------------------------------------------\u001b[0m",
      "\u001b[0;31mModuleNotFoundError\u001b[0m                       Traceback (most recent call last)",
      "\u001b[0;32m<ipython-input-61-ffa336891511>\u001b[0m in \u001b[0;36m<module>\u001b[0;34m\u001b[0m\n\u001b[0;32m----> 1\u001b[0;31m \u001b[0;32mimport\u001b[0m \u001b[0mtime\u001b[0m\u001b[0;34m,\u001b[0m\u001b[0mdate\u001b[0m\u001b[0;34m\u001b[0m\u001b[0;34m\u001b[0m\u001b[0m\n\u001b[0m\u001b[1;32m      2\u001b[0m \u001b[0mprint\u001b[0m \u001b[0;34m(\u001b[0m\u001b[0mtime\u001b[0m\u001b[0;34m.\u001b[0m\u001b[0mtime\u001b[0m\u001b[0;34m(\u001b[0m\u001b[0;34m)\u001b[0m\u001b[0;34m)\u001b[0m\u001b[0;34m\u001b[0m\u001b[0;34m\u001b[0m\u001b[0m\n\u001b[1;32m      3\u001b[0m \u001b[0mprint\u001b[0m \u001b[0;34m(\u001b[0m\u001b[0mdate\u001b[0m\u001b[0;34m.\u001b[0m\u001b[0mdate\u001b[0m\u001b[0;34m(\u001b[0m\u001b[0;34m)\u001b[0m\u001b[0;34m)\u001b[0m\u001b[0;34m\u001b[0m\u001b[0;34m\u001b[0m\u001b[0m\n",
      "\u001b[0;31mModuleNotFoundError\u001b[0m: No module named 'date'"
     ]
    }
   ],
   "source": [
    "import time\n",
    "print (time.time())\n",
    "print (date.date())"
   ]
  },
  {
   "cell_type": "code",
   "execution_count": null,
   "metadata": {},
   "outputs": [],
   "source": []
  }
 ],
 "metadata": {
  "kernelspec": {
   "display_name": "ptgpu37",
   "language": "python",
   "name": "ptgpu37"
  },
  "language_info": {
   "codemirror_mode": {
    "name": "ipython",
    "version": 3
   },
   "file_extension": ".py",
   "mimetype": "text/x-python",
   "name": "python",
   "nbconvert_exporter": "python",
   "pygments_lexer": "ipython3",
   "version": "3.7.4"
  }
 },
 "nbformat": 4,
 "nbformat_minor": 2
}
