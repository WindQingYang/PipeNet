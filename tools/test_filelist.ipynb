{
 "cells": [
  {
   "cell_type": "code",
   "execution_count": 13,
   "metadata": {},
   "outputs": [],
   "source": [
    "# from utils import *\n",
    "# from .augmentation import *\n",
    "# from .data_helper import *\n",
    "import os\n",
    "import random\n",
    "\n",
    "# DATA_ROOT = r'/home/common/datasets_qing/CASIA-SURF-CVPRW'\n",
    "\n",
    "\n",
    "TRN_IMGS_DIR = DATA_ROOT + '/Training/'\n",
    "TST_IMGS_DIR = DATA_ROOT + '/Val/'\n",
    "RESIZE_SIZE = 112\n",
    "# LEN_TEST=200\n",
    "mode='test'\n",
    "dataset_name='4@1'\n",
    "\n",
    "if mode=='dev':\n",
    "    DATA_ROOT = r'/home/qing/codalab/CASIA-CeFA/phase1'\n",
    "elif mode=='test':\n",
    "    DATA_ROOT = r'/home/qing/codalab/CASIA-CeFA/phase2'\n",
    "    \n",
    "def load_test_list():\n",
    "    list = []\n",
    "    f = open(DATA_ROOT + '/'+dataset_name+'_'+mode+'_res.txt')\n",
    "    lines = f.readlines()\n",
    "\n",
    "    for line in lines:\n",
    "        line = line.strip().split(' ')\n",
    "        path=line[0]+'/profile/'\n",
    "        names=os.listdir(DATA_ROOT+'/'+path)\n",
    "        for name in names:\n",
    "            sub_line=path+name\n",
    "#             print(\"sub_line:\",sub_line)\n",
    "            list.append(sub_line)\n",
    "    return list\n",
    "\n",
    "def convert_list(test_list):\n",
    "    print(\"convert!\")\n",
    "    list=[]\n",
    "    for tmp in test_list:\n",
    "        profile_str=tmp\n",
    "#         print(\"tmp[0]:\",tmp[0])\n",
    "        depth_str=tmp.replace(\"profile\",\"depth\") \n",
    "        ir_str=tmp.replace(\"profile\",\"ir\")\n",
    "        tmp=[profile_str,depth_str,ir_str]\n",
    "#         print(\"tmp:\",tmp)\n",
    "        list.append(tmp)\n",
    "    return list\n",
    "\n",
    "def write_list(list,name):\n",
    "    file=open(DATA_ROOT + '/'+ name+'.txt',\"w+\")\n",
    "    for tmp in list:\n",
    "        line=tmp[0]+\" \"+tmp[1]+\" \"+tmp[2]+\"\\n\"\n",
    "        file.write(str(line))\n",
    "    file.close()\n",
    "    "
   ]
  },
  {
   "cell_type": "code",
   "execution_count": 14,
   "metadata": {},
   "outputs": [
    {
     "name": "stdout",
     "output_type": "stream",
     "text": [
      "num: 17068\n",
      "convert!\n"
     ]
    }
   ],
   "source": [
    "test_list = load_test_list()\n",
    "print(\"num:\",len(test_list))\n",
    "test_list=convert_list(test_list)\n",
    "\n",
    "write_list(test_list,dataset_name+'_new_'+mode)\n",
    "\n",
    "# transform_balance(train_list)\n"
   ]
  },
  {
   "cell_type": "code",
   "execution_count": null,
   "metadata": {},
   "outputs": [],
   "source": []
  }
 ],
 "metadata": {
  "kernelspec": {
   "display_name": "ptgpu37",
   "language": "python",
   "name": "ptgpu37"
  },
  "language_info": {
   "codemirror_mode": {
    "name": "ipython",
    "version": 3
   },
   "file_extension": ".py",
   "mimetype": "text/x-python",
   "name": "python",
   "nbconvert_exporter": "python",
   "pygments_lexer": "ipython3",
   "version": "3.7.4"
  }
 },
 "nbformat": 4,
 "nbformat_minor": 2
}
